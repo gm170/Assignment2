{
 "cells": [
  {
   "cell_type": "code",
   "execution_count": 1,
   "metadata": {
    "colab": {
     "base_uri": "https://localhost:8080/"
    },
    "id": "VPUl6y_mvbkh",
    "outputId": "5854f52c-34bd-409d-a38a-348632b185ee"
   },
   "outputs": [
    {
     "name": "stdout",
     "output_type": "stream",
     "text": [
      "Requirement already satisfied: wbpy in c:\\users\\haire\\anaconda3\\lib\\site-packages (3.0.0)\n",
      "Requirement already satisfied: pycountry in c:\\users\\haire\\anaconda3\\lib\\site-packages (from wbpy) (22.3.5)\n",
      "Requirement already satisfied: six>=1.15.0 in c:\\users\\haire\\anaconda3\\lib\\site-packages (from wbpy) (1.16.0)\n",
      "Requirement already satisfied: setuptools in c:\\users\\haire\\anaconda3\\lib\\site-packages (from pycountry->wbpy) (58.0.4)\n",
      "Note: you may need to restart the kernel to use updated packages.\n"
     ]
    }
   ],
   "source": [
    "pip install wbpy"
   ]
  },
  {
   "cell_type": "code",
   "execution_count": 2,
   "metadata": {
    "colab": {
     "base_uri": "https://localhost:8080/",
     "height": 424
    },
    "id": "KcmfuD1gv4tO",
    "outputId": "f649ebbb-70a4-498c-f252-b524f816bf67"
   },
   "outputs": [
    {
     "data": {
      "text/html": [
       "<div>\n",
       "<style scoped>\n",
       "    .dataframe tbody tr th:only-of-type {\n",
       "        vertical-align: middle;\n",
       "    }\n",
       "\n",
       "    .dataframe tbody tr th {\n",
       "        vertical-align: top;\n",
       "    }\n",
       "\n",
       "    .dataframe thead th {\n",
       "        text-align: right;\n",
       "    }\n",
       "</style>\n",
       "<table border=\"1\" class=\"dataframe\">\n",
       "  <thead>\n",
       "    <tr style=\"text-align: right;\">\n",
       "      <th></th>\n",
       "      <th>fips,year,temp,tempc</th>\n",
       "    </tr>\n",
       "  </thead>\n",
       "  <tbody>\n",
       "    <tr>\n",
       "      <th>0</th>\n",
       "      <td>01,1895,61.641666666666666,16.46759259259259</td>\n",
       "    </tr>\n",
       "    <tr>\n",
       "      <th>1</th>\n",
       "      <td>01,1896,64.26666666666667,17.925925925925924</td>\n",
       "    </tr>\n",
       "    <tr>\n",
       "      <th>2</th>\n",
       "      <td>01,1897,64.19166666666666,17.884259259259256</td>\n",
       "    </tr>\n",
       "    <tr>\n",
       "      <th>3</th>\n",
       "      <td>01,1898,62.983333333333334,17.212962962962965</td>\n",
       "    </tr>\n",
       "    <tr>\n",
       "      <th>4</th>\n",
       "      <td>01,1899,63.1,17.27777777777778</td>\n",
       "    </tr>\n",
       "    <tr>\n",
       "      <th>...</th>\n",
       "      <td>...</td>\n",
       "    </tr>\n",
       "    <tr>\n",
       "      <th>2956</th>\n",
       "      <td>30,1976,42.68333333333334,5.935185185185187</td>\n",
       "    </tr>\n",
       "    <tr>\n",
       "      <th>2957</th>\n",
       "      <td>30,1977,41.59166666666667,5.328703703703705</td>\n",
       "    </tr>\n",
       "    <tr>\n",
       "      <th>2958</th>\n",
       "      <td>30,1978,38.88333333333333,3.824074074074074</td>\n",
       "    </tr>\n",
       "    <tr>\n",
       "      <th>2959</th>\n",
       "      <td>30,1979,40.166666666666664,4.537037037037035</td>\n",
       "    </tr>\n",
       "    <tr>\n",
       "      <th>2960</th>\n",
       "      <td>30,1980,42.11666666666667,5.6203703703</td>\n",
       "    </tr>\n",
       "  </tbody>\n",
       "</table>\n",
       "<p>2961 rows × 1 columns</p>\n",
       "</div>"
      ],
      "text/plain": [
       "                               fips,year,temp,tempc\n",
       "0      01,1895,61.641666666666666,16.46759259259259\n",
       "1      01,1896,64.26666666666667,17.925925925925924\n",
       "2      01,1897,64.19166666666666,17.884259259259256\n",
       "3     01,1898,62.983333333333334,17.212962962962965\n",
       "4                    01,1899,63.1,17.27777777777778\n",
       "...                                             ...\n",
       "2956    30,1976,42.68333333333334,5.935185185185187\n",
       "2957    30,1977,41.59166666666667,5.328703703703705\n",
       "2958    30,1978,38.88333333333333,3.824074074074074\n",
       "2959   30,1979,40.166666666666664,4.537037037037035\n",
       "2960         30,1980,42.11666666666667,5.6203703703\n",
       "\n",
       "[2961 rows x 1 columns]"
      ]
     },
     "execution_count": 2,
     "metadata": {},
     "output_type": "execute_result"
    }
   ],
   "source": [
    "# Pandas dataframe and climate change dataset\n",
    "import pandas as pd\n",
    "dataframe = pd.read_csv(\"climate-change.csv\")\n",
    "dataframe"
   ]
  },
  {
   "cell_type": "code",
   "execution_count": 3,
   "metadata": {
    "colab": {
     "base_uri": "https://localhost:8080/",
     "height": 295
    },
    "id": "6z2VBXLvyYRG",
    "outputId": "36d9ce9d-cdca-4957-b38e-422af15013c1"
   },
   "outputs": [
    {
     "data": {
      "image/png": "[encoded data removed]",
      "text/plain": [
       "<Figure size 432x288 with 1 Axes>"
      ]
     },
     "metadata": {
      "needs_background": "light"
     },
     "output_type": "display_data"
    }
   ],
   "source": [
    "#function that takes file and read\n",
    "#dataset shown\n",
    "import matplotlib.pyplot as plt\n",
    "\n",
    "# line 1 points\n",
    "temp = [1,2,3]\n",
    "flips = [2,4,1]\n",
    "# plotting the line 1 points\n",
    "plt.plot(temp, flips, label = \"line 1\")\n",
    "\n",
    "# line 2 points\n",
    "temp1 = [4,2,3]\n",
    "flip1 = [4,1,3]\n",
    "# plotting the line 2 points\n",
    "plt.plot(flip1, temp1, label = \"line 2\")\n",
    "\n",
    "# naming the x axis\n",
    "plt.xlabel('year')\n",
    "# naming the y axis\n",
    "plt.ylabel('country')\n",
    "# giving a title to my graph\n",
    "plt.title('Climate Change datset')\n",
    "\n",
    "# show a legend on the plot\n",
    "plt.legend()\n",
    "\n",
    "# function to show the plot\n",
    "plt.show()\n",
    "    "
   ]
  },
  {
   "cell_type": "code",
   "execution_count": 4,
   "metadata": {
    "colab": {
     "base_uri": "https://localhost:8080/"
    },
    "id": "WW9pGl-t3BbR",
    "outputId": "eb96d47e-2aa8-4d14-e927-991cd55941a2"
   },
   "outputs": [
    {
     "name": "stdout",
     "output_type": "stream",
     "text": [
      "http://api.worldbank.org/v2/countries/GBR;FRA;JPN/indicators/SP.POP.TOTL?date=2010%3A2012&format=json&per_page=10000\n"
     ]
    },
    {
     "data": {
      "text/plain": [
       "<wbpy.indicators.IndicatorDataset('SP.POP.TOTL', 'Population, total') with id: 2168959300704>"
      ]
     },
     "execution_count": 4,
     "metadata": {},
     "output_type": "execute_result"
    }
   ],
   "source": [
    "# indicators betwen countries dataset\n",
    "import wbpy\n",
    "from pprint import pprint\n",
    "\n",
    "api = wbpy.IndicatorAPI()\n",
    "\n",
    "iso_country_codes = [\"GB\", \"FR\", \"JP\"]\n",
    "total_countrydata = \"SP.POP.TOTL\"\n",
    "\n",
    "dataset = api.get_dataset(total_countrydata, iso_country_codes, date=\"2010:2012\")\n",
    "dataset"
   ]
  },
  {
   "cell_type": "code",
   "execution_count": 5,
   "metadata": {
    "colab": {
     "base_uri": "https://localhost:8080/"
    },
    "id": "j0FDPYF_3nKH",
    "outputId": "060e9c91-863b-49f4-adfb-62c9a6fc7696"
   },
   "outputs": [
    {
     "name": "stdout",
     "output_type": "stream",
     "text": [
      "http://api.worldbank.org/v2/indicator/SP.POP.TOTL?format=json&per_page=10000\n"
     ]
    },
    {
     "data": {
      "text/plain": [
       "[{'id': '19', 'value': 'Climate Change'}, {'id': '8', 'value': 'Health '}]"
      ]
     },
     "execution_count": 5,
     "metadata": {},
     "output_type": "execute_result"
    }
   ],
   "source": [
    "# Dataset indicators\n",
    "dataset.indicator_name\n",
    "'Population, total_countrydata'\n",
    "dataset.indicator_topics"
   ]
  },
  {
   "cell_type": "code",
   "execution_count": 6,
   "metadata": {
    "colab": {
     "base_uri": "https://localhost:8080/"
    },
    "id": "X0DKDeZa0cqD",
    "outputId": "681bebb7-a121-4b47-ee22-8293c5a02c47"
   },
   "outputs": [
    {
     "name": "stdout",
     "output_type": "stream",
     "text": [
      "[0.1123]\n",
      "[0.2333 0.511 ]\n"
     ]
    }
   ],
   "source": [
    "# Cross comapres beween countries and other datset\n",
    "# visualization of findings\n",
    "import numpy as np\n",
    "import scipy\n",
    "Temperature = np.arange(0.1123, 0.333)\n",
    "Country = np.array([0.2333,0.511])\n",
    "print(Temperature)\n",
    "print(Country)"
   ]
  },
  {
   "cell_type": "code",
   "execution_count": 7,
   "metadata": {
    "colab": {
     "base_uri": "https://localhost:8080/",
     "height": 295
    },
    "id": "5gqNITA311mg",
    "outputId": "80f00047-7585-4d17-a008-b0d282c06c4d"
   },
   "outputs": [
    {
     "data": {
      "image/png": "[encoded data removed]",
      "text/plain": [
       "<Figure size 432x288 with 1 Axes>"
      ]
     },
     "metadata": {
      "needs_background": "light"
     },
     "output_type": "display_data"
    }
   ],
   "source": [
    "import matplotlib.pyplot as plt\n",
    "\n",
    "# countries\n",
    "countries = [0.11,2.11,3.004,3.99]\n",
    "# corresponding energy consumption axis values\n",
    "energy_consumption= [2.11,4.66,1.99,9.99]\n",
    "\n",
    "# plotting the points\n",
    "plt.plot(countries, energy_consumption, color='green', linestyle='dashed', linewidth = 3,\n",
    "\t\tmarker='o', markerfacecolor='blue', markersize=12)\n",
    "\n",
    "# setting x and y axis range\n",
    "plt.ylim(1,8)\n",
    "plt.xlim(1,8)\n",
    "\n",
    "# naming the x axis\n",
    "plt.xlabel('countriess')\n",
    "# naming the y axis\n",
    "plt.ylabel('energy_consumption')\n",
    "\n",
    "# giving a title to my graph\n",
    "plt.title('change in climate on temperature!')\n",
    "\n",
    "# function to show the plot\n",
    "plt.show()\n"
   ]
  },
  {
   "cell_type": "code",
   "execution_count": 8,
   "metadata": {
    "colab": {
     "base_uri": "https://localhost:8080/",
     "height": 256
    },
    "id": "AAdaBqaZ2gS7",
    "outputId": "f27c56a3-b339-448b-a9b3-930c0d00de06"
   },
   "outputs": [
    {
     "data": {
      "image/png": "[encoded data removed]",
      "text/plain": [
       "<Figure size 432x288 with 1 Axes>"
      ]
     },
     "metadata": {},
     "output_type": "display_data"
    }
   ],
   "source": [
    "# statistical indicators\n",
    "# visulaization of findings\n",
    "import matplotlib.pyplot as plt \n",
    "import numpy as np\n",
    "import statistics as st\n",
    "\n",
    "# defining labels\n",
    "activities = ['Temperature', 'Energy', 'Sea level', 'Energy emission']\n",
    "\n",
    "# portion covered by each label\n",
    "slices = [3, 7, 8, 6]\n",
    "\n",
    "# color for each label\n",
    "colors = ['r', 'y', 'g', 'b']\n",
    "\n",
    "# plotting the pie chart\n",
    "plt.pie(slices, labels = activities, colors=colors,\n",
    "\t\tstartangle=90, shadow = True, explode = (0, 0, 0.1, 0),\n",
    "\t\tradius = 1.2, autopct = '%1.1f%%')\n",
    "\n",
    "# plotting legend\n",
    "plt.legend()\n",
    "\n",
    "# showing the plot\n",
    "plt.show()\n"
   ]
  }
 ],
 "metadata": {
  "colab": {
   "collapsed_sections": [],
   "name": "alladded3.ipynb",
   "provenance": []
  },
  "kernelspec": {
   "display_name": "Python 3 (ipykernel)",
   "language": "python",
   "name": "python3"
  },
  "language_info": {
   "codemirror_mode": {
    "name": "ipython",
    "version": 3
   },
   "file_extension": ".py",
   "mimetype": "text/x-python",
   "name": "python",
   "nbconvert_exporter": "python",
   "pygments_lexer": "ipython3",
   "version": "3.9.7"
  }
 },
 "nbformat": 4,
 "nbformat_minor": 1
}
